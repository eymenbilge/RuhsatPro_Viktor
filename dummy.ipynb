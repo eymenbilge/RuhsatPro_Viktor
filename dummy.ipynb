{
 "cells": [
  {
   "cell_type": "code",
   "execution_count": 26,
   "metadata": {},
   "outputs": [
    {
     "data": {
      "text/plain": [
       "1361.7"
      ]
     },
     "execution_count": 26,
     "metadata": {},
     "output_type": "execute_result"
    }
   ],
   "source": [
    "import ifcopenshell\n",
    "\n",
    "# Open the IFC file\n",
    "ifc_file = ifcopenshell.open(\"sample.ifc\")\n",
    "\n",
    "# Get the first IfcSite element (assuming there's only one IfcSite)\n",
    "ifc_site = ifc_file.by_type(\"IfcSite\")[0]\n",
    "\n",
    "# Dictionary to store the required values\n",
    "pset_values = {\"ArsaAlani\": None, \"TAKS\": None, \"KAKS\": None}\n",
    "\n",
    "# Loop through property sets of the IfcSite element\n",
    "for rel in ifc_site.IsDefinedBy:\n",
    "    if rel.is_a(\"IfcRelDefinesByProperties\"):\n",
    "        property_set = rel.RelatingPropertyDefinition\n",
    "        # Loop through properties in the property set\n",
    "        for prop in property_set.HasProperties:\n",
    "            if prop.Name in pset_values:\n",
    "                # Extract the numeric value and handle potential units like 'm²'\n",
    "                value = prop.NominalValue.wrappedValue\n",
    "                pset_values[prop.Name] = float(value.split()[0]) if \"m²\" in value else float(value)\n",
    "\n",
    "# Assign extracted values to variables\n",
    "arsa_alani, taks, kaks = pset_values[\"ArsaAlani\"], pset_values[\"TAKS\"], pset_values[\"KAKS\"]\n",
    "emsal_hakki=arsa_alani*kaks\n",
    "emsal_hakki\n",
    "emsal_30_minha_hakki =emsal_hakki*.3\n",
    "emsal_30_minha_hakki"
   ]
  }
 ],
 "metadata": {
  "kernelspec": {
   "display_name": "Python 3",
   "language": "python",
   "name": "python3"
  },
  "language_info": {
   "codemirror_mode": {
    "name": "ipython",
    "version": 3
   },
   "file_extension": ".py",
   "mimetype": "text/x-python",
   "name": "python",
   "nbconvert_exporter": "python",
   "pygments_lexer": "ipython3",
   "version": "3.12.7"
  }
 },
 "nbformat": 4,
 "nbformat_minor": 2
}
